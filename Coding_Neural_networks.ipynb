{
  "nbformat": 4,
  "nbformat_minor": 0,
  "metadata": {
    "colab": {
      "name": "Coding_Neural_networks.ipynb",
      "provenance": []
    },
    "kernelspec": {
      "name": "python3",
      "display_name": "Python 3"
    },
    "language_info": {
      "name": "python"
    }
  },
  "cells": [
    {
      "cell_type": "code",
      "metadata": {
        "id": "2NDm6fANaasq"
      },
      "source": [
        "import numpy as np"
      ],
      "execution_count": 1,
      "outputs": []
    },
    {
      "cell_type": "markdown",
      "metadata": {
        "id": "leI3JrutbuNL"
      },
      "source": [
        "Coding a single neuron"
      ]
    },
    {
      "cell_type": "code",
      "metadata": {
        "colab": {
          "base_uri": "https://localhost:8080/"
        },
        "id": "-bI27Vj2bWxl",
        "outputId": "d45d8cdc-8fdd-4216-a1fa-b17c33786b1d"
      },
      "source": [
        "inputs = [1,2,3,4]\n",
        "weights = [0.2,1.5,-0.5,1]\n",
        "bias = 2\n",
        "output = np.dot(inputs,weights) + bias\n",
        "print(output)"
      ],
      "execution_count": 2,
      "outputs": [
        {
          "output_type": "stream",
          "name": "stdout",
          "text": [
            "7.7\n"
          ]
        }
      ]
    },
    {
      "cell_type": "markdown",
      "metadata": {
        "id": "uHZa2caBbz27"
      },
      "source": [
        "Coding a Layer of Neurons"
      ]
    },
    {
      "cell_type": "code",
      "metadata": {
        "colab": {
          "base_uri": "https://localhost:8080/"
        },
        "id": "RUST9zj3b4dH",
        "outputId": "b07b7946-f64e-4672-e009-037360525488"
      },
      "source": [
        "inputs = [1,2,3,4]\n",
        "weights = [[0.2,1.5,-0.5,1],\n",
        "           [0.4,2.5,-1.5,0.99],\n",
        "           [1.11,2.11,3.11,4.3],\n",
        "           [0.212,0.21,0.65,0.89]] \n",
        "bias = [1,2,3,4]\n",
        "outputs = np.dot(inputs,weights)+bias\n",
        "print(outputs)"
      ],
      "execution_count": 3,
      "outputs": [
        {
          "output_type": "stream",
          "name": "stdout",
          "text": [
            "[ 6.178 15.67  11.43  23.44 ]\n"
          ]
        }
      ]
    },
    {
      "cell_type": "markdown",
      "metadata": {
        "id": "gl-2vVj3iTrr"
      },
      "source": [
        "A layer of neurons and batch of data"
      ]
    },
    {
      "cell_type": "code",
      "metadata": {
        "colab": {
          "base_uri": "https://localhost:8080/"
        },
        "id": "eoh2LnGseGH6",
        "outputId": "2685e1ba-0b37-4193-9eb6-ccfdfd4e6abb"
      },
      "source": [
        "inputs = [[1,2,3,4],\n",
        "          [5,6,7,8],\n",
        "          [9,10,11,12]]\n",
        "weights = [[0.2,1.5,-0.5,1],\n",
        "           [0.4,2.5,-1.5,0.99],\n",
        "           [1.11,2.11,3.11,4.3]] \n",
        "bias = [1,2,3]\n",
        "outpus = np.dot(inputs,np.array(weights).T) + bias\n",
        "print(outpus)"
      ],
      "execution_count": 4,
      "outputs": [
        {
          "output_type": "stream",
          "name": "stdout",
          "text": [
            "[[  6.7    6.86  34.86]\n",
            " [ 15.5   16.42  77.38]\n",
            " [ 24.3   25.98 119.9 ]]\n"
          ]
        }
      ]
    },
    {
      "cell_type": "code",
      "metadata": {
        "id": "QzINiEydi4Ys"
      },
      "source": [
        ""
      ],
      "execution_count": null,
      "outputs": []
    }
  ]
}